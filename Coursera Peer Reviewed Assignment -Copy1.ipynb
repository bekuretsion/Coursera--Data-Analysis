{
 "cells": [
  {
   "cell_type": "markdown",
   "id": "2d97371f",
   "metadata": {},
   "source": [
    "## Coursera Peer Reviewed Assignment "
   ]
  },
  {
   "cell_type": "markdown",
   "id": "7fd4b3f5",
   "metadata": {},
   "source": [
    "## Introduction\n",
    "\n",
    "Throughout this exercise, you'll learn how to create headings, lists, code blocks, and more using Markdown syntax. Let's dive in and get started!\n"
   ]
  },
  {
   "cell_type": "markdown",
   "id": "75a3b4c1",
   "metadata": {},
   "source": [
    "## Data Science Languages\n",
    "\n",
    "In data science, various programming languages are used for different tasks. Here are some commonly used languages:\n",
    "\n",
    "1. **Python**: Widely recognized for its versatility and extensive libraries such as NumPy, Pandas, and scikit-learn.\n",
    "   \n",
    "2. **R**: Known for its powerful statistical analysis capabilities and comprehensive ecosystem of packages like ggplot2 and dplyr.\n",
    "   \n",
    "3. **SQL**: Essential for querying and managing relational databases, crucial for data extraction and manipulation.\n",
    "   \n",
    "4. **Julia**: Gaining popularity for its high-performance computing capabilities and ease of writing mathematical algorithms.\n",
    "   \n",
    "5. **Scala**: Often used in big data processing frameworks like Apache Spark due to its functional programming features.\n",
    "   \n",
    "6. **Java**: Used in data engineering and for building scalable applications in big data environments.\n",
    "\n",
    "These languages cater to different aspects of data science, from data manipulation and analysis to machine learning and big data processing.\n"
   ]
  },
  {
   "cell_type": "markdown",
   "id": "875c17fc",
   "metadata": {},
   "source": [
    "## Data Science Libraries\n",
    "\n",
    "In data science, essential libraries include:\n",
    "\n",
    "- **Python**:\n",
    "  - **NumPy**: Numerical computing with arrays.\n",
    "  - **Pandas**: Data analysis and manipulation.\n",
    "  - **Matplotlib**: Data visualization.\n",
    "  - **Scikit-learn**: Machine learning.\n",
    "\n",
    "- **R**:\n",
    "  - **ggplot2**: Data visualization.\n",
    "  - **dplyr** and **tidyr**: Data manipulation.\n",
    "  - **caret**: Machine learning.\n",
    "\n",
    "- **SQL**:\n",
    "  - **SQLAlchemy**: SQL toolkit for Python.\n",
    "  - **SQLite**: Embedded database engine.\n"
   ]
  },
  {
   "cell_type": "markdown",
   "id": "f77eea99",
   "metadata": {},
   "source": [
    "## Data Science Tools\n",
    "\n",
    "| Language | Tool           | Description                                            |\n",
    "|----------|----------------|--------------------------------------------------------|\n",
    "| Python   | NumPy          | Numerical computing with arrays                         |\n",
    "|          | Pandas         | Data analysis and manipulation                         |\n",
    "|          | Matplotlib     | Data visualization                                     |\n",
    "|          | Scikit-learn   | Machine learning                                       |\n",
    "|          | TensorFlow     | Deep learning framework                                |\n",
    "|          | PyTorch        | Deep learning framework                                |\n",
    "| R        | ggplot2        | Data visualization based on the Grammar of Graphics     |\n",
    "|          | dplyr          | Data manipulation                                      |\n",
    "|          | tidyr          | Data tidying                                           |\n",
    "|          | caret          | Machine learning toolkit                               |\n",
    "| SQL      | SQLAlchemy     | SQL toolkit and ORM for Python                         |\n",
    "|          | SQLite         | Embedded relational database engine                    |\n"
   ]
  },
  {
   "cell_type": "markdown",
   "id": "78e39934",
   "metadata": {},
   "source": [
    "## Arithmetic Expression Examples\n",
    "\n",
    "Arithmetic expressions in programming involve basic mathematical operations:\n",
    "\n",
    "- **Addition**: `3 + 5` equals 8.\n",
    "- **Subtraction**: `7 - 2` equals 5.\n",
    "- **Multiplication**: `4 * 6` equals 24.\n",
    "- **Division**: `10 / 2` equals 5.0.\n",
    "- **Exponentiation**: `2 ** 3` equals 8.\n",
    "- **Modulus**: `10 % 3` equals 1.\n",
    "\n",
    "These operations are essential for performing calculations and manipulating numerical data in programming.\n"
   ]
  },
  {
   "cell_type": "code",
   "execution_count": 8,
   "id": "d39ce047",
   "metadata": {},
   "outputs": [
    {
     "name": "stdout",
     "output_type": "stream",
     "text": [
      "15\n",
      "8\n"
     ]
    }
   ],
   "source": [
    "# Multiply and add numbers\n",
    "num1 = 5\n",
    "num2 = 3\n",
    "# Multiplication\n",
    "result_mult = num1 * num2\n",
    "result_mult  # Output: 15\n",
    "# Addition\n",
    "result_add = num1 + num2\n",
    "result_add  # Output: 8\n",
    "print(result_mult)\n",
    "print(result_add)"
   ]
  },
  {
   "cell_type": "code",
   "execution_count": 13,
   "id": "073e51b5",
   "metadata": {},
   "outputs": [
    {
     "name": "stdout",
     "output_type": "stream",
     "text": [
      "Enter the minutes you need to convert to hours: 230\n",
      "230.0 minutes is equal to 3.8333333333333335 hours\n"
     ]
    }
   ],
   "source": [
    "# Convert minutes to hours\n",
    "minutes = float(input('Enter the minutes you need to convert to hours: '))\n",
    "\n",
    "# Calculate hours\n",
    "hours = minutes / 60\n",
    "\n",
    "# Display the result\n",
    "print(f\"{minutes} minutes is equal to {hours} hours\")\n",
    "\n"
   ]
  },
  {
   "cell_type": "markdown",
   "id": "837b8c39",
   "metadata": {},
   "source": [
    "## Objectives\n",
    "\n",
    "- Understand the basics of Jupyter Notebook and Markdown formatting.\n",
    "- Learn how to create and manipulate code cells and markdown cells.\n",
    "- Practice basic arithmetic operations and conversions in Python.\n",
    "- Get familiar with common data science libraries and tools.\n",
    "- Enhance skills in presenting and organizing data and code effectively.\n"
   ]
  },
  {
   "cell_type": "markdown",
   "id": "a09307dc",
   "metadata": {},
   "source": [
    "## Author\n",
    "\n",
    "Bekuretsion"
   ]
  },
  {
   "cell_type": "code",
   "execution_count": null,
   "id": "087c9ef2",
   "metadata": {},
   "outputs": [],
   "source": []
  }
 ],
 "metadata": {
  "kernelspec": {
   "display_name": "Python 3 (ipykernel)",
   "language": "python",
   "name": "python3"
  },
  "language_info": {
   "codemirror_mode": {
    "name": "ipython",
    "version": 3
   },
   "file_extension": ".py",
   "mimetype": "text/x-python",
   "name": "python",
   "nbconvert_exporter": "python",
   "pygments_lexer": "ipython3",
   "version": "3.11.5"
  }
 },
 "nbformat": 4,
 "nbformat_minor": 5
}
